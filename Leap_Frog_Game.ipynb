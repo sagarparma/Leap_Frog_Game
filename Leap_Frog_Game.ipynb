{
  "nbformat": 4,
  "nbformat_minor": 0,
  "metadata": {
    "colab": {
      "provenance": []
    },
    "kernelspec": {
      "name": "python3",
      "display_name": "Python 3"
    },
    "language_info": {
      "name": "python"
    }
  },
  "cells": [
    {
      "cell_type": "code",
      "source": [
        "Positions = list(['G','G','G','-','B','B','B'])\n",
        "print(\"Always enter an integer less that 7\")\n",
        "print(\"[ 0 ,  1 ,  2 ,  3 ,  4 ,  5 ,  6 ]\")\n",
        "print(Positions)\n",
        "\n",
        "while True:\n",
        "    pos = input(\"Press q to quit else \\nEnter position of piece:\")\n",
        "    if pos == 'q':\n",
        "        print(\"YOU LOSE!\")\n",
        "        break\n",
        "    pos = int(pos)\n",
        "\n",
        "    if pos<0 or 6 >= 0 and Positions[pos - 1] == '-':\n",
        "            pass\n",
        "    elif (pos - 2) >= 0 and Positions[pos - 2] == '-' and Positions[pos - 1] == 'G':\n",
        "            pass\n",
        "    else:\n",
        "            print(\"Invalid move\")\n",
        "\n",
        "    pos2 = 0\n",
        "    if Positions[pos] == 'G':\n",
        "        if Positions[pos + 1] == '-':\n",
        "            pos2 = (pos+1)\n",
        "        elif Positions[pos + 2] == '-':\n",
        "            pos2 = (pos+2)\n",
        "    if Positions[pos] == 'B':\n",
        "        if Positions[pos - 1] == '-':\n",
        "            pos2 = (pos-1)\n",
        "        elif Positions[pos - 2] == '-':\n",
        "            pos2 = (pos-2)\n",
        "    Positions[pos], Positions[pos2] = Positions[pos2], Positions[pos]\n",
        "\n",
        "    print(\"[ 0 ,  1 ,  2 ,  3 ,  4 ,  5 ,  6 ]\")\n",
        "    print(Positions)\n",
        "\n",
        "    if Positions == ['B','B','B','-','G','G','G']:\n",
        "        print(\"YOU WIN!\")\n",
        "        break"
      ],
      "metadata": {
        "colab": {
          "base_uri": "https://localhost:8080/"
        },
        "id": "d0uiiakZhiJ0",
        "outputId": "e000c0a1-c4c5-4746-c6d9-3262f844132f"
      },
      "execution_count": 30,
      "outputs": [
        {
          "output_type": "stream",
          "name": "stdout",
          "text": [
            "Always enter an integer less that 7\n",
            "[ 0 ,  1 ,  2 ,  3 ,  4 ,  5 ,  6 ]\n",
            "['G', 'G', 'G', '-', 'B', 'B', 'B']\n",
            "Press q to quit else \n",
            "Enter position of piece:q\n",
            "YOU LOSE!\n"
          ]
        }
      ]
    },
    {
      "cell_type": "code",
      "source": [],
      "metadata": {
        "id": "kOy-Xrxthjr6"
      },
      "execution_count": null,
      "outputs": []
    }
  ]
}